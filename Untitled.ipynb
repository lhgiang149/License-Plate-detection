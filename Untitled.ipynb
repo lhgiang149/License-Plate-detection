{
 "cells": [
  {
   "cell_type": "code",
   "execution_count": 237,
   "metadata": {},
   "outputs": [],
   "source": [
    "import os\n",
    "import cv2\n",
    "import json\n",
    "import numpy as np\n",
    "\n",
    "from matplotlib import pyplot as plt"
   ]
  },
  {
   "cell_type": "markdown",
   "metadata": {},
   "source": [
    "# 1/ Crop the license plate -> get auto label for tiny yolo"
   ]
  },
  {
   "cell_type": "code",
   "execution_count": 253,
   "metadata": {},
   "outputs": [],
   "source": [
    "def crop_license(image_path):\n",
    "    # read image\n",
    "    img = cv2.imread(image_path)\n",
    "    \n",
    "    # convert to Gray\n",
    "    gray = cv2.cvtColor(img, cv2.COLOR_BGR2GRAY)\n",
    "    \n",
    "    # take shape\n",
    "    h,w = gray.shape\n",
    "    \n",
    "    # take threshold, the license plate is white so it tend to have a high brightness background\n",
    "    _,thresh = cv2.threshold(gray,190,255,cv2.THRESH_BINARY_INV)\n",
    "\n",
    "    # find contour and its area to get the license contour\n",
    "    contours, hierarchy = cv2.findContours(thresh, cv2.RETR_TREE,cv2.CHAIN_APPROX_NONE)\n",
    "    area = list(map(cv2.contourArea,contours))\n",
    "    index = np.argsort(area)\n",
    "    \n",
    "    # the index -2 is only estimate for this problem only, it maybe different with different image\n",
    "    cnt = contours[index[-2]]\n",
    "    \n",
    "    # change it to 2D array\n",
    "    cnt = cnt.reshape(cnt.shape[0],2)\n",
    "    \n",
    "    # Crop image\n",
    "    x_min = int(np.min(cnt[:,0]))\n",
    "    x_max = int(np.max(cnt[:,0]))\n",
    "    y_min = int(np.min(cnt[:,1]))\n",
    "    y_max = int(np.max(cnt[:,1]))\n",
    "#     croped_image = img[y_min:y_max,x_min:x_max,:]\n",
    "    \n",
    "#     return croped_image\n",
    "\n",
    "    return (x_min, x_max, y_min, y_max),(h,w)\n",
    "\n",
    "path = './dataset/GreenParking/'\n",
    "\n",
    "\n",
    "# for image in os.listdir(path)[:40]:\n",
    "#     crop = crop_license(path+image)\n",
    "#     cv2.imshow('image',crop)\n",
    "#     cv2.waitKey()\n",
    "#     cv2.destroyAllWindows()\n",
    "    "
   ]
  },
  {
   "cell_type": "markdown",
   "metadata": {},
   "source": [
    "# 2/ Dump json file -> input for G-Labeller"
   ]
  },
  {
   "cell_type": "code",
   "execution_count": 255,
   "metadata": {},
   "outputs": [],
   "source": [
    "def dump_json(json_dir, name, position, name_class, sample_json, image_size):\n",
    "    dump_path = json_dir + name + '.json'\n",
    "    x_min, x_max, y_min, y_max = position\n",
    "    list_x = [x_min,x_max,x_max,x_min]\n",
    "    list_y = [y_min,y_min,y_max,y_max]\n",
    "    sample_json['regions']['0']['List_X'] = list_x\n",
    "    sample_json['regions']['0']['List_Y'] = list_y\n",
    "    sample_json['originalRegions']['0']['List_X'] = list_x\n",
    "    sample_json['originalRegions']['0']['List_Y'] = list_y\n",
    "    sample_json['classId'] = [name_class]\n",
    "    sample_json['filename'] = name\n",
    "    sample_json['width'] = image_size[1]\n",
    "    sample_json['height'] = image_size[0]\n",
    "    with open(dump_path, 'w') as f:\n",
    "        json.dump(sample_json,f)\n",
    "    "
   ]
  },
  {
   "cell_type": "markdown",
   "metadata": {},
   "source": [
    "# 3/ Main function"
   ]
  },
  {
   "cell_type": "code",
   "execution_count": 257,
   "metadata": {},
   "outputs": [],
   "source": [
    "path = './dataset/GreenParking/'\n",
    "json_dir = 'C:/Users/emage/OneDrive/Desktop/json/'\n",
    "name_class = 'license'\n",
    "json_path = 'C:/Users/emage/OneDrive/Desktop/1.jpg.json'\n",
    "with open(json_path, 'r') as f:\n",
    "    sample_json = json.load(f)\n",
    "\n",
    "for image_name in os.listdir(path):\n",
    "    position, image_size = crop_license(path+image_name)\n",
    "    dump_json(json_dir, image_name, position, name_class, sample_json, image_size)\n",
    "    "
   ]
  },
  {
   "cell_type": "markdown",
   "metadata": {},
   "source": [
    "# 4/ Convert to YOLO-keras form"
   ]
  },
  {
   "cell_type": "code",
   "execution_count": null,
   "metadata": {},
   "outputs": [],
   "source": [
    "# create train text file\n",
    "import json\n",
    "import os\n",
    "source = 'C:/Users/emage/OneDrive/Desktop/json/'\n",
    "gt = open('C:/Users/emage/OneDrive/Desktop/' + 'train.txt', 'w')\n",
    "for file in os.listdir(source):\n",
    "    path = 'C:/Users/emage/OneDrive/Desktop/image/' + file[:-5] + ' '\n",
    "    a = open(source+file, 'r')\n",
    "    a = json.loads(a.read())\n",
    "    a = a['regions']\n",
    "    temp = \"\"\n",
    "    for k,v in a.items():\n",
    "        x = v['List_X']\n",
    "        y = v['List_Y']\n",
    "        # idx 0 and 2\n",
    "        for i in [0,2]:\n",
    "            temp += str(int(x[i]))\n",
    "            temp += ','\n",
    "            temp += str(int(y[i]))\n",
    "            temp += ','\n",
    "        temp += str(k) + ' '\n",
    "    path += temp + '\\n'\n",
    "    gt.write(path)"
   ]
  }
 ],
 "metadata": {
  "kernelspec": {
   "display_name": "Python 3",
   "language": "python",
   "name": "python3"
  },
  "language_info": {
   "codemirror_mode": {
    "name": "ipython",
    "version": 3
   },
   "file_extension": ".py",
   "mimetype": "text/x-python",
   "name": "python",
   "nbconvert_exporter": "python",
   "pygments_lexer": "ipython3",
   "version": "3.7.6"
  }
 },
 "nbformat": 4,
 "nbformat_minor": 4
}
